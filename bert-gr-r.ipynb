{
  "cells": [
    {
      "cell_type": "markdown",
      "metadata": {
        "id": "view-in-github",
        "colab_type": "text"
      },
      "source": [
        "<a href=\"https://colab.research.google.com/github/ipavlopoulos/proverbs.gr/blob/main/bert-gr-r.ipynb\" target=\"_parent\"><img src=\"https://colab.research.google.com/assets/colab-badge.svg\" alt=\"Open In Colab\"/></a>"
      ]
    },
    {
      "cell_type": "code",
      "execution_count": 24,
      "metadata": {
        "id": "DxN2dSJWea_L"
      },
      "outputs": [],
      "source": [
        "import pandas as pd\n",
        "import matplotlib.pyplot as plt\n",
        "from sklearn.model_selection import train_test_split\n",
        "from sklearn.metrics import *\n",
        "\n",
        "i = 2\n",
        "seed = 2023+i\n",
        "balanced_corpus = pd.read_csv(\"https://raw.githubusercontent.com/ipavlopoulos/paremia/main/data/balanced_corpus.csv\", index_col=0)\n",
        "train, test = train_test_split(balanced_corpus, test_size=0.05, random_state=seed)\n",
        "train, dev = train_test_split(train, test_size=test.shape[0], random_state=seed)"
      ]
    },
    {
      "cell_type": "code",
      "execution_count": 26,
      "metadata": {
        "id": "-uLEMzv8ey0Q"
      },
      "outputs": [],
      "source": [
        "!pip install transformers\n",
        "from transformers import BertModel, BertTokenizer\n",
        "model_name = 'nlpaueb/bert-base-greek-uncased-v1'\n",
        "tokenizer = BertTokenizer.from_pretrained(model_name)"
      ]
    },
    {
      "cell_type": "code",
      "execution_count": 27,
      "metadata": {
        "id": "D7KED0nCe1qz"
      },
      "outputs": [],
      "source": [
        "import torch\n",
        "import numpy as np\n",
        "\n",
        "class Dataset(torch.utils.data.Dataset):\n",
        "    def __init__(self, df, max_length = 32):\n",
        "        self.max_length = max_length\n",
        "        self.labels = df[[\"lat\", \"lon\"]].values\n",
        "        self.texts = df.text.apply(lambda txt: tokenizer(txt,\n",
        "                                                         padding='max_length',\n",
        "                                                         max_length = self.max_length,\n",
        "                                                         truncation=True,\n",
        "                                                         return_tensors=\"pt\")).values\n",
        "\n",
        "    def classes(self):\n",
        "        return self.labels\n",
        "\n",
        "    def __len__(self):\n",
        "        return len(self.labels)\n",
        "\n",
        "    def get_batch_labels(self, idx):\n",
        "        return np.array(self.labels[idx])\n",
        "\n",
        "    def get_batch_texts(self, idx):\n",
        "        return self.texts[idx]\n",
        "\n",
        "    def __getitem__(self, idx):\n",
        "        batch_texts = self.get_batch_texts(idx)\n",
        "        batch_y = self.get_batch_labels(idx)\n",
        "        return batch_texts, batch_y"
      ]
    },
    {
      "cell_type": "code",
      "execution_count": 28,
      "metadata": {
        "id": "CtXt452Kf_Pc"
      },
      "outputs": [],
      "source": [
        "from torch import nn\n",
        "\n",
        "class BertClassifier(nn.Module):\n",
        "\n",
        "    def __init__(self, dropout=0.1, num_classes=2):\n",
        "        super(BertClassifier, self).__init__()\n",
        "        self.bert = BertModel.from_pretrained(model_name)\n",
        "        self.dropout = nn.Dropout(dropout)\n",
        "        self.linear1 = nn.Linear(768, 128, bias=True)\n",
        "        self.norm = nn.BatchNorm1d(128)\n",
        "        self.linear2 = nn.Linear(128, num_classes, bias=True)\n",
        "        self.relu = nn.ReLU()\n",
        "\n",
        "    def forward(self, input_id, mask):\n",
        "        _, pooled_output = self.bert(input_ids=input_id, attention_mask=mask, return_dict=False)\n",
        "        x = pooled_output\n",
        "        x = self.dropout(x)\n",
        "        x = self.relu(self.linear1(x))\n",
        "        x = self.norm(x)\n",
        "        x = self.linear2(x)\n",
        "        return x"
      ]
    },
    {
      "cell_type": "code",
      "execution_count": 29,
      "metadata": {
        "id": "SVbJdgRUg152"
      },
      "outputs": [],
      "source": [
        "from torch.optim import Adam\n",
        "from tqdm import tqdm\n",
        "\n",
        "from transformers import AutoTokenizer, BertModel\n",
        "\n",
        "def validate(model, dataloader, device=\"cpu\", criterion=nn.MSELoss()):\n",
        "    predictions, gold_labels = [], []\n",
        "    model.eval()\n",
        "    val_loss = 0\n",
        "    with torch.no_grad():\n",
        "        for val_batch_id, (val_input, val_label) in enumerate(dataloader):\n",
        "            val_label = val_label.to(device)\n",
        "            mask = val_input['attention_mask'].to(device)\n",
        "            input_id = val_input['input_ids'].squeeze(1).to(device)\n",
        "            output = model(input_id, mask)\n",
        "            val_batch_loss = criterion(output, val_label)\n",
        "            predictions.extend(output.cpu().numpy())\n",
        "            gold_labels.extend(val_label.cpu())\n",
        "            val_loss += val_batch_loss.item()\n",
        "    return predictions, gold_labels, val_loss/val_batch_id\n",
        "\n",
        "def finetune(model, train_data, val_data,\n",
        "             learning_rate=2e-5, epochs=100, criterion=nn.MSELoss(),\n",
        "             batch_size=32, max_length=16, patience=5):\n",
        "\n",
        "    train_losses = []\n",
        "    val_losses = []\n",
        "\n",
        "    train_dataloader = torch.utils.data.DataLoader(train_data, batch_size=batch_size, shuffle=True, drop_last=False)\n",
        "    val_dataloader = torch.utils.data.DataLoader(val_data, batch_size=batch_size, drop_last=False)\n",
        "    use_cuda = torch.cuda.is_available()\n",
        "    device = torch.device(\"cuda\" if use_cuda else \"cpu\")\n",
        "    optimizer = Adam(model.parameters(), lr=learning_rate)\n",
        "    model.train()\n",
        "    lowest_loss = 1000\n",
        "    best_epoch = 0\n",
        "    epochs_not_improving = 0\n",
        "\n",
        "    if use_cuda:\n",
        "            model = model.cuda()\n",
        "            criterion = criterion.cuda()\n",
        "\n",
        "    for epoch_num in range(epochs):\n",
        "            total_acc_train = 0\n",
        "            total_loss_train = 0\n",
        "            total_loss_val = 0\n",
        "            for batch_id, (train_input, train_label) in tqdm(enumerate(train_dataloader)):\n",
        "                train_label = train_label.to(device)\n",
        "                mask = train_input['attention_mask'].to(device)\n",
        "                input_id = train_input['input_ids'].squeeze(1).to(device)\n",
        "                output = model(input_id, mask)\n",
        "                batch_loss = criterion(output, train_label.float())\n",
        "                total_loss_train += batch_loss.item()\n",
        "                model.zero_grad()\n",
        "                batch_loss.backward()\n",
        "                optimizer.step()\n",
        "            train_losses.append(total_loss_train/(batch_id+1))\n",
        "\n",
        "            predictions, gold_labels, val_loss = validate(model, val_dataloader, device, criterion)\n",
        "            val_losses.append(val_loss)\n",
        "            if val_loss < lowest_loss:\n",
        "                print(f\"New best epoch found: {epoch_num} (val loss: {val_loss:.3f})!\")\n",
        "                lowest_loss = val_loss\n",
        "                best_epoch = epoch_num\n",
        "                torch.save(model.state_dict(), \"checkpoint.pt\")\n",
        "                epochs_not_improving = 0\n",
        "            else:\n",
        "                epochs_not_improving += 1\n",
        "                if epochs_not_improving >= patience:\n",
        "                    model.load_state_dict(torch.load(\"checkpoint.pt\"))\n",
        "                    print('Patience is up, restoring the best model and exiting...')\n",
        "                    break\n",
        "\n",
        "            print(\n",
        "                f'Epochs: {epoch_num + 1} | Train Loss: {total_loss_train/batch_id: .3f} \\\n",
        "                | Val Loss: {val_loss: .3f} (best epoch: {best_epoch} w/val_loss: {lowest_loss:.3f})')\n",
        "    model.eval()\n",
        "    return model, train_losses, val_losses"
      ]
    },
    {
      "cell_type": "code",
      "execution_count": 30,
      "metadata": {
        "id": "Wd4g1_zOiTlZ",
        "outputId": "54b4e06f-e942-4d2f-cf25-7a248aa839d8",
        "colab": {
          "base_uri": "https://localhost:8080/"
        }
      },
      "outputs": [
        {
          "metadata": {
            "tags": null
          },
          "name": "stderr",
          "output_type": "stream",
          "text": [
            "324it [00:58,  5.59it/s]\n"
          ]
        },
        {
          "metadata": {
            "tags": null
          },
          "name": "stdout",
          "output_type": "stream",
          "text": [
            "Epochs: 1 | Train Loss:  1034.457                 | Val Loss:  1084.003 (best epoch: 0 w/val_loss: 1000.000)\n"
          ]
        },
        {
          "metadata": {
            "tags": null
          },
          "name": "stderr",
          "output_type": "stream",
          "text": [
            "324it [01:01,  5.27it/s]\n"
          ]
        },
        {
          "metadata": {
            "tags": null
          },
          "name": "stdout",
          "output_type": "stream",
          "text": [
            "New best epoch found: 1 (val loss: 4.160)!\n",
            "Epochs: 2 | Train Loss:  18.935                 | Val Loss:  4.160 (best epoch: 1 w/val_loss: 4.160)\n"
          ]
        },
        {
          "metadata": {
            "tags": null
          },
          "name": "stderr",
          "output_type": "stream",
          "text": [
            "324it [01:00,  5.31it/s]\n"
          ]
        },
        {
          "metadata": {
            "tags": null
          },
          "name": "stdout",
          "output_type": "stream",
          "text": [
            "New best epoch found: 2 (val loss: 4.000)!\n",
            "Epochs: 3 | Train Loss:  4.462                 | Val Loss:  4.000 (best epoch: 2 w/val_loss: 4.000)\n"
          ]
        },
        {
          "metadata": {
            "tags": null
          },
          "name": "stderr",
          "output_type": "stream",
          "text": [
            "324it [01:01,  5.29it/s]\n"
          ]
        },
        {
          "metadata": {
            "tags": null
          },
          "name": "stdout",
          "output_type": "stream",
          "text": [
            "New best epoch found: 3 (val loss: 3.819)!\n",
            "Epochs: 4 | Train Loss:  3.862                 | Val Loss:  3.819 (best epoch: 3 w/val_loss: 3.819)\n"
          ]
        },
        {
          "metadata": {
            "tags": null
          },
          "name": "stderr",
          "output_type": "stream",
          "text": [
            "324it [01:01,  5.31it/s]\n"
          ]
        },
        {
          "metadata": {
            "tags": null
          },
          "name": "stdout",
          "output_type": "stream",
          "text": [
            "New best epoch found: 4 (val loss: 3.482)!\n",
            "Epochs: 5 | Train Loss:  3.362                 | Val Loss:  3.482 (best epoch: 4 w/val_loss: 3.482)\n"
          ]
        },
        {
          "metadata": {
            "tags": null
          },
          "name": "stderr",
          "output_type": "stream",
          "text": [
            "324it [01:01,  5.29it/s]\n"
          ]
        },
        {
          "metadata": {
            "tags": null
          },
          "name": "stdout",
          "output_type": "stream",
          "text": [
            "Epochs: 6 | Train Loss:  2.770                 | Val Loss:  4.027 (best epoch: 4 w/val_loss: 3.482)\n"
          ]
        },
        {
          "metadata": {
            "tags": null
          },
          "name": "stderr",
          "output_type": "stream",
          "text": [
            "324it [01:01,  5.31it/s]\n"
          ]
        },
        {
          "metadata": {
            "tags": null
          },
          "name": "stdout",
          "output_type": "stream",
          "text": [
            "Epochs: 7 | Train Loss:  2.040                 | Val Loss:  3.590 (best epoch: 4 w/val_loss: 3.482)\n"
          ]
        },
        {
          "metadata": {
            "tags": null
          },
          "name": "stderr",
          "output_type": "stream",
          "text": [
            "324it [01:01,  5.28it/s]\n"
          ]
        },
        {
          "metadata": {
            "tags": null
          },
          "name": "stdout",
          "output_type": "stream",
          "text": [
            "Epochs: 8 | Train Loss:  1.290                 | Val Loss:  3.838 (best epoch: 4 w/val_loss: 3.482)\n"
          ]
        },
        {
          "metadata": {
            "tags": null
          },
          "name": "stderr",
          "output_type": "stream",
          "text": [
            "324it [01:01,  5.30it/s]\n"
          ]
        },
        {
          "metadata": {
            "tags": null
          },
          "name": "stdout",
          "output_type": "stream",
          "text": [
            "Epochs: 9 | Train Loss:  0.775                 | Val Loss:  3.849 (best epoch: 4 w/val_loss: 3.482)\n"
          ]
        },
        {
          "metadata": {
            "tags": null
          },
          "name": "stderr",
          "output_type": "stream",
          "text": [
            "324it [01:01,  5.29it/s]\n"
          ]
        },
        {
          "metadata": {
            "tags": null
          },
          "name": "stdout",
          "output_type": "stream",
          "text": [
            "Patience is up, restoring the best model and exiting...\n"
          ]
        }
      ],
      "source": [
        "criterion = nn.MSELoss()\n",
        "model = BertClassifier(num_classes=2)\n",
        "max_length = 32\n",
        "\n",
        "model, train_losses, val_losses = finetune(model,\n",
        "                                           Dataset(train, max_length=max_length),\n",
        "                                           Dataset(dev, max_length=max_length),\n",
        "                                           epochs=100,\n",
        "                                           max_length=max_length,\n",
        "                                           learning_rate=2e-5,\n",
        "                                           criterion=criterion)"
      ]
    },
    {
      "cell_type": "code",
      "execution_count": 31,
      "metadata": {
        "colab": {
          "base_uri": "https://localhost:8080/",
          "height": 472
        },
        "id": "MfQ9Dx9TiTlZ",
        "outputId": "2a274e92-8c87-46df-aed8-4ab2b8460a6d"
      },
      "outputs": [
        {
          "output_type": "display_data",
          "data": {
            "text/plain": [
              "<Figure size 640x480 with 1 Axes>"
            ],
            "image/png": "[encoded data removed]"
          },
          "metadata": {}
        }
      ],
      "source": [
        "plt.plot(train_losses, label='Training Loss')\n",
        "plt.plot(val_losses, label='Validation Loss')\n",
        "plt.title('Training and Validation Loss')\n",
        "plt.xlabel('Epoch'); plt.ylabel('Loss'); plt.legend();"
      ]
    },
    {
      "cell_type": "code",
      "execution_count": 32,
      "metadata": {
        "id": "DIYWcKK5hVGR"
      },
      "outputs": [],
      "source": [
        "test_dataloader = torch.utils.data.DataLoader(Dataset(test, max_length=max_length), batch_size=32, drop_last=False)\n",
        "p,l,_ = validate(model.to(\"cpu\"), test_dataloader, \"cpu\", criterion)\n",
        "preds_pd = pd.DataFrame({\"pred_lat\": np.array(p)[:, 0], \"pred_lon\": np.array(p)[:, 1],\n",
        "                         \"gold_lat\": np.array([i.numpy() for i in l])[:, 0],\n",
        "                         \"gold_lon\": np.array([i.numpy() for i in l])[:, 1]})\n",
        "preds_pd.to_csv(f\"proverb.predictions_s{i}.csv\", index=False)"
      ]
    },
    {
      "cell_type": "code",
      "execution_count": 33,
      "metadata": {
        "colab": {
          "base_uri": "https://localhost:8080/"
        },
        "id": "EBALiofry6iA",
        "outputId": "8c415f68-0d61-4c01-d246-1a3f93a6a86f"
      },
      "outputs": [
        {
          "output_type": "stream",
          "name": "stdout",
          "text": [
            "MAE\n",
            "lat: 1.27\n",
            "lon: 1.89\n",
            "MSE\n",
            "lat: 2.59\n",
            "lon: 6.08\n",
            "R2\n",
            "lat: -3.58\n",
            "lon: -0.66\n"
          ]
        }
      ],
      "source": [
        "print('MAE')\n",
        "print(f\"lat: {mean_absolute_error(preds_pd.pred_lat, preds_pd.gold_lat):.2f}\")\n",
        "print(f\"lon: {mean_absolute_error(preds_pd.pred_lon, preds_pd.gold_lon):.2f}\")\n",
        "print('MSE')\n",
        "print(f\"lat: {mean_squared_error(preds_pd.pred_lat, preds_pd.gold_lat):.2f}\")\n",
        "print(f\"lon: {mean_squared_error(preds_pd.pred_lon, preds_pd.gold_lon):.2f}\")\n",
        "print('R2')\n",
        "print(f\"lat: {r2_score(preds_pd.pred_lat, preds_pd.gold_lat):.2f}\")\n",
        "print(f\"lon: {r2_score(preds_pd.pred_lon, preds_pd.gold_lon):.2f}\")"
      ]
    },
    {
      "cell_type": "code",
      "execution_count": 34,
      "metadata": {
        "id": "bG3vwmHHz4AU"
      },
      "outputs": [],
      "source": [
        "torch.save(model.state_dict(), f\"bert-gr-r-s{i}.pt\")"
      ]
    },
    {
      "cell_type": "code",
      "source": [
        "#from google.colab import auth\n",
        "#auth.authenticate_user()\n",
        "project_id = 'TBD'\n",
        "bucket_name = 'TBD'\n",
        "model_name = f\"bert-gr-r-s{i}.pt\"\n",
        "!gcloud config set project {project_id}\n",
        "!gsutil cp {model_name} gs://{bucket_name}/ # up"
      ],
      "metadata": {
        "id": "rjUg9s2bGEHA",
        "outputId": "55a8af52-c72f-4265-e042-2aa037c3957d",
        "colab": {
          "base_uri": "https://localhost:8080/"
        }
      },
      "execution_count": 35,
      "outputs": [
        {
          "output_type": "stream",
          "name": "stdout",
          "text": [
            "Updated property [core/project].\n",
            "Copying file://bert-gr-r-s2.pt [Content-Type=application/vnd.snesdev-page-table]...\n",
            "==> NOTE: You are uploading one or more large file(s), which would run\n",
            "significantly faster if you enable parallel composite uploads. This\n",
            "feature can be enabled by editing the\n",
            "\"parallel_composite_upload_threshold\" value in your .boto\n",
            "configuration file. However, note that if you do this large files will\n",
            "be uploaded as `composite objects\n",
            "<https://cloud.google.com/storage/docs/composite-objects>`_,which\n",
            "means that any user who downloads such objects will need to have a\n",
            "compiled crcmod installed (see \"gsutil help crcmod\"). This is because\n",
            "without a compiled crcmod, computing checksums on composite objects is\n",
            "so slow that gsutil disables downloads of composite objects.\n",
            "\n",
            "| [1 files][431.2 MiB/431.2 MiB]                                                \n",
            "Operation completed over 1 objects/431.2 MiB.                                    \n"
          ]
        }
      ]
    },
    {
      "cell_type": "markdown",
      "source": [
        "# Assessment"
      ],
      "metadata": {
        "id": "MlZW6d6iEZpE"
      }
    },
    {
      "cell_type": "code",
      "source": [
        "# to use these, initialise the bucket_name and project_id\n",
        "project_id = 'TBD' # <== set these properly\n",
        "!gcloud config set project {project_id}\n",
        "!gsutil cp 'gs://THE_BUCKET/bert-gr-c-seed0.pt' ./\n",
        "!gsutil cp 'gs://THE_BUCKET/bert-gr-c-seed1.pt' ./\n",
        "!gsutil cp 'gs://THE_BUCKET/bert-gr-c-seed2.pt' ./"
      ],
      "metadata": {
        "id": "7Rtr9aAWO-ZJ"
      },
      "execution_count": null,
      "outputs": []
    },
    {
      "cell_type": "code",
      "source": [
        "scores = {'mae': {'lat':[], 'lon':[]},\n",
        "          'mse': {'lat':[], 'lon':[]}}\n",
        "for i in range(3): # three models are trained with seed from 2023 to 2025\n",
        "  seed = 2023+i\n",
        "  train, test = train_test_split(balanced_corpus, test_size=0.05, random_state=seed)\n",
        "  train, dev = train_test_split(train, test_size=test.shape[0], random_state=seed)\n",
        "  test_dataloader = torch.utils.data.DataLoader(Dataset(test, max_length=max_length), batch_size=32, drop_last=False)\n",
        "  model.load_state_dict(torch.load(f\"bert-gr-r-s{i}.pt\"))\n",
        "  p,l,_ = validate(model.to(\"cpu\"), test_dataloader, \"cpu\", criterion)\n",
        "  preds_pd = pd.DataFrame({\"pred_lat\": np.array(p)[:, 0], \"pred_lon\": np.array(p)[:, 1],\n",
        "                           \"gold_lat\": np.array([i.numpy() for i in l])[:, 0],\n",
        "                           \"gold_lon\": np.array([i.numpy() for i in l])[:, 1]})\n",
        "  scores['mae']['lat'].append(mean_absolute_error(preds_pd.pred_lat, preds_pd.gold_lat))\n",
        "  scores['mae']['lon'].append(mean_absolute_error(preds_pd.pred_lon, preds_pd.gold_lon))\n",
        "  scores['mse']['lat'].append(mean_squared_error(preds_pd.pred_lat, preds_pd.gold_lat))\n",
        "  scores['mse']['lon'].append(mean_squared_error(preds_pd.pred_lon, preds_pd.gold_lon))"
      ],
      "metadata": {
        "id": "KtbNwipP4VQC"
      },
      "execution_count": 41,
      "outputs": []
    },
    {
      "cell_type": "code",
      "source": [
        "for e in ('mae', 'mse'):\n",
        "  for l in ('lat', 'lon'):\n",
        "    print(e, l, pd.Series(scores[e][l]).agg(['mean', 'sem']))"
      ],
      "metadata": {
        "id": "yWCrv810PBsy",
        "outputId": "69bb375a-baee-4e30-e026-217f5ca87b3e",
        "colab": {
          "base_uri": "https://localhost:8080/"
        }
      },
      "execution_count": 45,
      "outputs": [
        {
          "output_type": "stream",
          "name": "stdout",
          "text": [
            "mae lat mean    1.328482\n",
            "sem     0.037338\n",
            "dtype: float64\n",
            "mae lon mean    1.806833\n",
            "sem     0.041383\n",
            "dtype: float64\n",
            "mse lat mean    2.701287\n",
            "sem     0.079878\n",
            "dtype: float64\n",
            "mse lon mean    5.343756\n",
            "sem     0.372213\n",
            "dtype: float64\n"
          ]
        }
      ]
    },
    {
      "cell_type": "code",
      "source": [],
      "metadata": {
        "id": "I-LwFZC0P_ue"
      },
      "execution_count": null,
      "outputs": []
    }
  ],
  "metadata": {
    "accelerator": "GPU",
    "colab": {
      "gpuClass": "premium",
      "gpuType": "T4",
      "machine_shape": "hm",
      "provenance": [],
      "include_colab_link": true
    },
    "gpuClass": "premium",
    "kernelspec": {
      "display_name": "Python 3 (ipykernel)",
      "language": "python",
      "name": "python3"
    },
    "language_info": {
      "codemirror_mode": {
        "name": "ipython",
        "version": 3
      },
      "file_extension": ".py",
      "mimetype": "text/x-python",
      "name": "python",
      "nbconvert_exporter": "python",
      "pygments_lexer": "ipython3",
      "version": "3.11.3"
    }
  },
  "nbformat": 4,
  "nbformat_minor": 0
}